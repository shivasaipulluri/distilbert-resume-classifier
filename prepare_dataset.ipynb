{
 "cells": [
  {
   "cell_type": "code",
   "execution_count": 1,
   "id": "bae67e89-c1cb-45c3-9c44-825cdf792f95",
   "metadata": {},
   "outputs": [
    {
     "name": "stdout",
     "output_type": "stream",
     "text": [
      "✅ Saved train.jsonl and val.jsonl\n"
     ]
    }
   ],
   "source": [
    "# ✅ Notebook 1: Run this in Jupyter or Colab\n",
    "\n",
    "import os, json\n",
    "from sklearn.model_selection import train_test_split\n",
    "\n",
    "# 🔍 Step 1: Extract uploaded zip\n",
    "import zipfile\n",
    "with zipfile.ZipFile(\"parsed-json.zip\", 'r') as zip_ref:\n",
    "    zip_ref.extractall(\"parsed-json\")\n",
    "\n",
    "data = []\n",
    "json_folder = \"parsed-json\"\n",
    "\n",
    "# 📦 Step 2: Load + flatten JSON files\n",
    "for fname in sorted(os.listdir(json_folder)):\n",
    "    if not fname.endswith(\".json\"): continue\n",
    "    path = os.path.join(json_folder, fname)\n",
    "    with open(path, \"r\", encoding=\"utf-8\") as f:\n",
    "        content = json.load(f)\n",
    "\n",
    "        # Convert sections into a single block of text\n",
    "        full_text = \"\"\n",
    "        for section in [\"header\", \"summary\", \"experience\", \"education\", \"skills\", \"projects\", \"certifications\", \"achievements\", \"organizations\", \"hobbies\"]:\n",
    "            sec = content.get(section)\n",
    "            if sec:\n",
    "                if isinstance(sec, list):\n",
    "                    full_text += f\"\\n\\n{section.title()}:\\n\" + \"\\n\".join([str(x) for x in sec])\n",
    "                elif isinstance(sec, dict):\n",
    "                    full_text += f\"\\n\\n{section.title()}:\\n\" + \"\\n\".join([f\"{k}: {v}\" for k, v in sec.items()])\n",
    "                else:\n",
    "                    full_text += f\"\\n\\n{section.title()}:\\n{str(sec)}\"\n",
    "\n",
    "        # Add training pair\n",
    "        data.append({\n",
    "            \"input\": full_text.strip(),\n",
    "            \"output\": json.dumps(content, ensure_ascii=False)\n",
    "        })\n",
    "\n",
    "# ✂️ Step 3: Split into train / val\n",
    "train_data, val_data = train_test_split(data, test_size=0.2, random_state=42)\n",
    "\n",
    "# 💾 Step 4: Save to JSONL\n",
    "def save_jsonl(dataset, filename):\n",
    "    with open(filename, \"w\", encoding=\"utf-8\") as f:\n",
    "        for item in dataset:\n",
    "            f.write(json.dumps(item, ensure_ascii=False) + \"\\n\")\n",
    "\n",
    "save_jsonl(train_data, \"train.jsonl\")\n",
    "save_jsonl(val_data, \"val.jsonl\")\n",
    "\n",
    "print(\"✅ Saved train.jsonl and val.jsonl\")\n"
   ]
  },
  {
   "cell_type": "code",
   "execution_count": null,
   "id": "555b7f4e-3ba8-4595-918a-ee9892a80769",
   "metadata": {},
   "outputs": [],
   "source": []
  }
 ],
 "metadata": {
  "kernelspec": {
   "display_name": "Python 3 (ipykernel)",
   "language": "python",
   "name": "python3"
  },
  "language_info": {
   "codemirror_mode": {
    "name": "ipython",
    "version": 3
   },
   "file_extension": ".py",
   "mimetype": "text/x-python",
   "name": "python",
   "nbconvert_exporter": "python",
   "pygments_lexer": "ipython3",
   "version": "3.11.5"
  }
 },
 "nbformat": 4,
 "nbformat_minor": 5
}
